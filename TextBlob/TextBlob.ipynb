{
 "cells": [
  {
   "cell_type": "markdown",
   "metadata": {},
   "source": [
    "# Text Blob"
   ]
  },
  {
   "cell_type": "code",
   "execution_count": 1,
   "metadata": {},
   "outputs": [],
   "source": [
    "from textblob import TextBlob "
   ]
  },
  {
   "cell_type": "code",
   "execution_count": 16,
   "metadata": {},
   "outputs": [],
   "source": [
    "sent = ''' Contrary to popular belief, Lorem Ipsum is not simply random text. \n",
    "It has roots in a piece of classical Latin literature from 45 BC, making it over 2000 years old. \n",
    "Richard McClintock, a Latin professor at Hampden-Sydney College in Virginia, looked up one of the more \n",
    "obscure Latin words, consectetur, from a Lorem Ipsum passage, and going through the cites of the \n",
    "word in classical literature, discovered the undoubtable source. Lorem Ipsum comes from sections 1.10.32 \n",
    "and 1.10.33 of \"de Finibus Bonorum et Malorum\" (The Extremes of Good and Evil) by Cicero, written \n",
    "in 45 BC. This book is a treatise on the theory of ethics, very popular during the Renaissance. \n",
    "The first line of Lorem Ipsum, \"Lorem ipsum dolor sit amet..\", comes from a line in section 1.10.32.\n",
    "\n",
    "The standard chunk of Lorem Ipsum used since the 1500s is reproduced below for those interested. \n",
    "Sections 1.10.32 and 1.10.33 from \"de Finibus Bonorum et Malorum\" by Cicero are also reproduced \n",
    "in their exact original form, accompanied by English versions from the 1914 translation by H. Rackham. \n",
    "\n",
    "'''"
   ]
  },
  {
   "cell_type": "code",
   "execution_count": 19,
   "metadata": {},
   "outputs": [],
   "source": [
    "anything = TextBlob(sent)"
   ]
  },
  {
   "cell_type": "code",
   "execution_count": 20,
   "metadata": {},
   "outputs": [
    {
     "data": {
      "text/plain": [
       "textblob.blob.TextBlob"
      ]
     },
     "execution_count": 20,
     "metadata": {},
     "output_type": "execute_result"
    }
   ],
   "source": [
    "type(anything)  "
   ]
  },
  {
   "cell_type": "markdown",
   "metadata": {},
   "source": [
    "## Word Tokenizing"
   ]
  },
  {
   "cell_type": "code",
   "execution_count": 21,
   "metadata": {},
   "outputs": [
    {
     "data": {
      "text/plain": [
       "TextBlob(\" Contrary to popular belief, Lorem Ipsum is not simply random text. \n",
       "It has roots in a piece of classical Latin literature from 45 BC, making it over 2000 years old. \n",
       "Richard McClintock, a Latin professor at Hampden-Sydney College in Virginia, looked up one of the more \n",
       "obscure Latin words, consectetur, from a Lorem Ipsum passage, and going through the cites of the \n",
       "word in classical literature, discovered the undoubtable source. Lorem Ipsum comes from sections 1.10.32 \n",
       "and 1.10.33 of \"de Finibus Bonorum et Malorum\" (The Extremes of Good and Evil) by Cicero, written \n",
       "in 45 BC. This book is a treatise on the theory of ethics, very popular during the Renaissance. \n",
       "The first line of Lorem Ipsum, \"Lorem ipsum dolor sit amet..\", comes from a line in section 1.10.32.\n",
       "\n",
       "The standard chunk of Lorem Ipsum used since the 1500s is reproduced below for those interested. \n",
       "Sections 1.10.32 and 1.10.33 from \"de Finibus Bonorum et Malorum\" by Cicero are also reproduced \n",
       "in their exact original form, accompanied by English versions from the 1914 translation by H. Rackham. \n",
       "\n",
       "\")"
      ]
     },
     "execution_count": 21,
     "metadata": {},
     "output_type": "execute_result"
    }
   ],
   "source": [
    "anything"
   ]
  },
  {
   "cell_type": "code",
   "execution_count": 22,
   "metadata": {},
   "outputs": [
    {
     "data": {
      "text/plain": [
       "WordList(['Contrary', 'to', 'popular', 'belief', 'Lorem', 'Ipsum', 'is', 'not', 'simply', 'random', 'text', 'It', 'has', 'roots', 'in', 'a', 'piece', 'of', 'classical', 'Latin', 'literature', 'from', '45', 'BC', 'making', 'it', 'over', '2000', 'years', 'old', 'Richard', 'McClintock', 'a', 'Latin', 'professor', 'at', 'Hampden-Sydney', 'College', 'in', 'Virginia', 'looked', 'up', 'one', 'of', 'the', 'more', 'obscure', 'Latin', 'words', 'consectetur', 'from', 'a', 'Lorem', 'Ipsum', 'passage', 'and', 'going', 'through', 'the', 'cites', 'of', 'the', 'word', 'in', 'classical', 'literature', 'discovered', 'the', 'undoubtable', 'source', 'Lorem', 'Ipsum', 'comes', 'from', 'sections', '1.10.32', 'and', '1.10.33', 'of', 'de', 'Finibus', 'Bonorum', 'et', 'Malorum', 'The', 'Extremes', 'of', 'Good', 'and', 'Evil', 'by', 'Cicero', 'written', 'in', '45', 'BC', 'This', 'book', 'is', 'a', 'treatise', 'on', 'the', 'theory', 'of', 'ethics', 'very', 'popular', 'during', 'the', 'Renaissance', 'The', 'first', 'line', 'of', 'Lorem', 'Ipsum', 'Lorem', 'ipsum', 'dolor', 'sit', 'amet', 'comes', 'from', 'a', 'line', 'in', 'section', '1.10.32', 'The', 'standard', 'chunk', 'of', 'Lorem', 'Ipsum', 'used', 'since', 'the', '1500s', 'is', 'reproduced', 'below', 'for', 'those', 'interested', 'Sections', '1.10.32', 'and', '1.10.33', 'from', 'de', 'Finibus', 'Bonorum', 'et', 'Malorum', 'by', 'Cicero', 'are', 'also', 'reproduced', 'in', 'their', 'exact', 'original', 'form', 'accompanied', 'by', 'English', 'versions', 'from', 'the', '1914', 'translation', 'by', 'H', 'Rackham'])"
      ]
     },
     "execution_count": 22,
     "metadata": {},
     "output_type": "execute_result"
    }
   ],
   "source": [
    "anything.words"
   ]
  },
  {
   "cell_type": "code",
   "execution_count": 23,
   "metadata": {},
   "outputs": [
    {
     "data": {
      "text/plain": [
       "[Sentence(\" Contrary to popular belief, Lorem Ipsum is not simply random text.\"),\n",
       " Sentence(\"It has roots in a piece of classical Latin literature from 45 BC, making it over 2000 years old.\"),\n",
       " Sentence(\"Richard McClintock, a Latin professor at Hampden-Sydney College in Virginia, looked up one of the more \n",
       " obscure Latin words, consectetur, from a Lorem Ipsum passage, and going through the cites of the \n",
       " word in classical literature, discovered the undoubtable source.\"),\n",
       " Sentence(\"Lorem Ipsum comes from sections 1.10.32 \n",
       " and 1.10.33 of \"de Finibus Bonorum et Malorum\" (The Extremes of Good and Evil) by Cicero, written \n",
       " in 45 BC.\"),\n",
       " Sentence(\"This book is a treatise on the theory of ethics, very popular during the Renaissance.\"),\n",
       " Sentence(\"The first line of Lorem Ipsum, \"Lorem ipsum dolor sit amet..\", comes from a line in section 1.10.32.\"),\n",
       " Sentence(\"The standard chunk of Lorem Ipsum used since the 1500s is reproduced below for those interested.\"),\n",
       " Sentence(\"Sections 1.10.32 and 1.10.33 from \"de Finibus Bonorum et Malorum\" by Cicero are also reproduced \n",
       " in their exact original form, accompanied by English versions from the 1914 translation by H. Rackham.\")]"
      ]
     },
     "execution_count": 23,
     "metadata": {},
     "output_type": "execute_result"
    }
   ],
   "source": [
    "anything.sentences"
   ]
  },
  {
   "cell_type": "code",
   "execution_count": 24,
   "metadata": {},
   "outputs": [
    {
     "name": "stdout",
     "output_type": "stream",
     "text": [
      "['Contrary', 'to', 'popular', 'belief', 'Lorem', 'Ipsum', 'is', 'not', 'simply', 'random', 'text']\n",
      "['It', 'has', 'roots', 'in', 'a', 'piece', 'of', 'classical', 'Latin', 'literature', 'from', '45', 'BC', 'making', 'it', 'over', '2000', 'years', 'old']\n",
      "['Richard', 'McClintock', 'a', 'Latin', 'professor', 'at', 'Hampden-Sydney', 'College', 'in', 'Virginia', 'looked', 'up', 'one', 'of', 'the', 'more', 'obscure', 'Latin', 'words', 'consectetur', 'from', 'a', 'Lorem', 'Ipsum', 'passage', 'and', 'going', 'through', 'the', 'cites', 'of', 'the', 'word', 'in', 'classical', 'literature', 'discovered', 'the', 'undoubtable', 'source']\n",
      "['Lorem', 'Ipsum', 'comes', 'from', 'sections', '1.10.32', 'and', '1.10.33', 'of', 'de', 'Finibus', 'Bonorum', 'et', 'Malorum', 'The', 'Extremes', 'of', 'Good', 'and', 'Evil', 'by', 'Cicero', 'written', 'in', '45', 'BC']\n",
      "['This', 'book', 'is', 'a', 'treatise', 'on', 'the', 'theory', 'of', 'ethics', 'very', 'popular', 'during', 'the', 'Renaissance']\n",
      "['The', 'first', 'line', 'of', 'Lorem', 'Ipsum', 'Lorem', 'ipsum', 'dolor', 'sit', 'amet', 'comes', 'from', 'a', 'line', 'in', 'section', '1.10.32']\n",
      "['The', 'standard', 'chunk', 'of', 'Lorem', 'Ipsum', 'used', 'since', 'the', '1500s', 'is', 'reproduced', 'below', 'for', 'those', 'interested']\n",
      "['Sections', '1.10.32', 'and', '1.10.33', 'from', 'de', 'Finibus', 'Bonorum', 'et', 'Malorum', 'by', 'Cicero', 'are', 'also', 'reproduced', 'in', 'their', 'exact', 'original', 'form', 'accompanied', 'by', 'English', 'versions', 'from', 'the', '1914', 'translation', 'by', 'H', 'Rackham']\n"
     ]
    }
   ],
   "source": [
    "for word in anything.sentences:\n",
    "    print(word.words)"
   ]
  },
  {
   "cell_type": "markdown",
   "metadata": {},
   "source": [
    "## Language Detection"
   ]
  },
  {
   "cell_type": "markdown",
   "metadata": {},
   "source": [
    "* Esperanto - eo\n",
    "* French - fr\n",
    "* German - de\n",
    "* Latin - it\n",
    "* Punjabi - pa\n",
    "* Kannada - kn\n",
    "* TELUGU - te\n",
    "* Japnese - ja\n",
    "* Chinese - zh-CN\n",
    "* etc..."
   ]
  },
  {
   "cell_type": "code",
   "execution_count": 2,
   "metadata": {},
   "outputs": [],
   "source": [
    "# word = TextBlob('ਸਤ ਸ੍ਰੀ ਅਕਾਲ')\n",
    "word = TextBlob('ಹಲೋ') "
   ]
  },
  {
   "cell_type": "code",
   "execution_count": 3,
   "metadata": {},
   "outputs": [
    {
     "data": {
      "text/plain": [
       "'kn'"
      ]
     },
     "execution_count": 3,
     "metadata": {},
     "output_type": "execute_result"
    }
   ],
   "source": [
    "word.detect_language()"
   ]
  },
  {
   "cell_type": "code",
   "execution_count": 4,
   "metadata": {},
   "outputs": [],
   "source": [
    "word1 = TextBlob('Hallo')"
   ]
  },
  {
   "cell_type": "code",
   "execution_count": 5,
   "metadata": {},
   "outputs": [
    {
     "data": {
      "text/plain": [
       "'de'"
      ]
     },
     "execution_count": 5,
     "metadata": {},
     "output_type": "execute_result"
    }
   ],
   "source": [
    "word1.detect_language()"
   ]
  },
  {
   "cell_type": "markdown",
   "metadata": {},
   "source": [
    "## Language Translation"
   ]
  },
  {
   "cell_type": "code",
   "execution_count": 28,
   "metadata": {},
   "outputs": [
    {
     "data": {
      "text/plain": [
       "TextBlob(\"Bonjour\")"
      ]
     },
     "execution_count": 28,
     "metadata": {},
     "output_type": "execute_result"
    }
   ],
   "source": [
    "(word.translate(to = 'fr')) "
   ]
  },
  {
   "cell_type": "code",
   "execution_count": 47,
   "metadata": {},
   "outputs": [
    {
     "data": {
      "text/plain": [
       "'kn'"
      ]
     },
     "execution_count": 47,
     "metadata": {},
     "output_type": "execute_result"
    }
   ],
   "source": [
    "kan = TextBlob(\"ಇದು ತಂಪಾಗಿದೆ\")\n",
    "kan.detect_language() "
   ]
  },
  {
   "cell_type": "code",
   "execution_count": 48,
   "metadata": {},
   "outputs": [
    {
     "data": {
      "text/plain": [
       "TextBlob(\"It's cool\")"
      ]
     },
     "execution_count": 48,
     "metadata": {},
     "output_type": "execute_result"
    }
   ],
   "source": [
    "kan.translate(to=\"en\")"
   ]
  },
  {
   "cell_type": "code",
   "execution_count": 49,
   "metadata": {},
   "outputs": [
    {
     "name": "stdout",
     "output_type": "stream",
     "text": [
      "['__add__', '__class__', '__contains__', '__delattr__', '__dict__', '__dir__', '__doc__', '__eq__', '__format__', '__ge__', '__getattribute__', '__getitem__', '__gt__', '__hash__', '__init__', '__init_subclass__', '__iter__', '__le__', '__len__', '__lt__', '__module__', '__ne__', '__new__', '__reduce__', '__reduce_ex__', '__repr__', '__setattr__', '__sizeof__', '__str__', '__subclasshook__', '__weakref__', '_cmpkey', '_compare', '_create_sentence_objects', '_strkey', 'analyzer', 'classify', 'correct', 'detect_language', 'ends_with', 'endswith', 'find', 'format', 'index', 'join', 'json', 'lower', 'ngrams', 'noun_phrases', 'np_counts', 'np_extractor', 'parse', 'parser', 'polarity', 'pos_tagger', 'pos_tags', 'raw_sentences', 'replace', 'rfind', 'rindex', 'sentences', 'sentiment', 'sentiment_assessments', 'serialized', 'split', 'starts_with', 'startswith', 'strip', 'subjectivity', 'tags', 'title', 'to_json', 'tokenize', 'tokenizer', 'tokens', 'translate', 'translator', 'upper', 'word_counts', 'words']\n"
     ]
    }
   ],
   "source": [
    "print(dir(TextBlob))"
   ]
  },
  {
   "cell_type": "code",
   "execution_count": 50,
   "metadata": {},
   "outputs": [
    {
     "name": "stdout",
     "output_type": "stream",
     "text": [
      "Help on function detect_language in module textblob.blob:\n",
      "\n",
      "detect_language(self)\n",
      "    Detect the blob's language using the Google Translate API.\n",
      "    \n",
      "    Requires an internet connection.\n",
      "    \n",
      "    Usage:\n",
      "    ::\n",
      "    \n",
      "        >>> b = TextBlob(\"bonjour\")\n",
      "        >>> b.detect_language()\n",
      "        u'fr'\n",
      "    \n",
      "    Language code reference:\n",
      "        https://developers.google.com/translate/v2/using_rest#language-params\n",
      "    \n",
      "    .. versionadded:: 0.5.0\n",
      "    \n",
      "    :rtype: str\n",
      "\n"
     ]
    }
   ],
   "source": [
    "help(TextBlob.detect_language) "
   ]
  },
  {
   "cell_type": "code",
   "execution_count": 4,
   "metadata": {},
   "outputs": [],
   "source": [
    "sentence = \"abc is always late to college\" "
   ]
  },
  {
   "cell_type": "code",
   "execution_count": 5,
   "metadata": {},
   "outputs": [],
   "source": [
    "esp = TextBlob(sentence)"
   ]
  },
  {
   "cell_type": "code",
   "execution_count": 72,
   "metadata": {},
   "outputs": [
    {
     "data": {
      "text/plain": [
       "TextBlob(\"ನೀವು ಅಶುಚಿಯಾದ ಪ್ರಾಣಿ ಬದಲಾವಣೆಗೆ ಇರಿಸಿ\")"
      ]
     },
     "execution_count": 72,
     "metadata": {},
     "output_type": "execute_result"
    }
   ],
   "source": [
    "esp.translate(to='kn')"
   ]
  },
  {
   "cell_type": "markdown",
   "metadata": {},
   "source": [
    "## Voice Output"
   ]
  },
  {
   "cell_type": "code",
   "execution_count": 6,
   "metadata": {},
   "outputs": [],
   "source": [
    "from gtts import gTTS as g"
   ]
  },
  {
   "cell_type": "code",
   "execution_count": 11,
   "metadata": {},
   "outputs": [],
   "source": [
    "speech = g(sentence,'te') "
   ]
  },
  {
   "cell_type": "code",
   "execution_count": 12,
   "metadata": {},
   "outputs": [],
   "source": [
    "speech.save(\"<audio_name>.mp3\")"
   ]
  },
  {
   "cell_type": "markdown",
   "metadata": {},
   "source": [
    "## Parts of Speech"
   ]
  },
  {
   "cell_type": "code",
   "execution_count": 17,
   "metadata": {},
   "outputs": [],
   "source": [
    "from textblob import TextBlob as t"
   ]
  },
  {
   "cell_type": "code",
   "execution_count": 2,
   "metadata": {},
   "outputs": [],
   "source": [
    "sent = t(\"I didn’t quite know what to expect from this movie going in given all the online chatter and political discussions surrounding this film but, after leaving the theatre I can happily say I was very very impressed with the end result. You all know the drill by now with marvel movies and once again they turn out a very entertaining and important movie. \")"
   ]
  },
  {
   "cell_type": "code",
   "execution_count": 6,
   "metadata": {},
   "outputs": [
    {
     "name": "stdout",
     "output_type": "stream",
     "text": [
      "[('I', 'PRP'), ('didn', 'VBP'), ('’', 'JJ'), ('t', 'NN'), ('quite', 'RB'), ('know', 'VB'), ('what', 'WP'), ('to', 'TO'), ('expect', 'VB'), ('from', 'IN'), ('this', 'DT'), ('movie', 'NN'), ('going', 'VBG'), ('in', 'IN'), ('given', 'VBN'), ('all', 'PDT'), ('the', 'DT'), ('online', 'NN'), ('chatter', 'NN'), ('and', 'CC'), ('political', 'JJ'), ('discussions', 'NNS'), ('surrounding', 'VBG'), ('this', 'DT'), ('film', 'NN'), ('but', 'CC'), ('after', 'IN'), ('leaving', 'VBG'), ('the', 'DT'), ('theatre', 'NN'), ('I', 'PRP'), ('can', 'MD'), ('happily', 'RB'), ('say', 'VB'), ('I', 'PRP'), ('was', 'VBD'), ('very', 'RB'), ('very', 'RB'), ('impressed', 'JJ'), ('with', 'IN'), ('the', 'DT'), ('end', 'NN'), ('result', 'NN'), ('You', 'PRP'), ('all', 'DT'), ('know', 'VBP'), ('the', 'DT'), ('drill', 'NN'), ('by', 'IN'), ('now', 'RB'), ('with', 'IN'), ('marvel', 'NN'), ('movies', 'NNS'), ('and', 'CC'), ('once', 'RB'), ('again', 'RB'), ('they', 'PRP'), ('turn', 'VBP'), ('out', 'RP'), ('a', 'DT'), ('very', 'RB'), ('entertaining', 'JJ'), ('and', 'CC'), ('important', 'JJ'), ('movie', 'NN')]\n"
     ]
    }
   ],
   "source": [
    "print(sent.tags)"
   ]
  },
  {
   "cell_type": "code",
   "execution_count": 7,
   "metadata": {},
   "outputs": [
    {
     "name": "stdout",
     "output_type": "stream",
     "text": [
      "['didn ’ t', 'online chatter', 'political discussions', 'end result', 'important movie']\n"
     ]
    }
   ],
   "source": [
    "print(sent.noun_phrases)"
   ]
  },
  {
   "cell_type": "code",
   "execution_count": 78,
   "metadata": {},
   "outputs": [
    {
     "name": "stdout",
     "output_type": "stream",
     "text": [
      "Sentiment(polarity=0.75, subjectivity=0.8)\n"
     ]
    }
   ],
   "source": [
    "# polarity says if a sentence is positive or negative \n",
    "# subjectivity says emotion and it ranges from 0-1\n",
    "new_sentence = t(\"Awesome movie and I would love to watch it again.\")\n",
    "print(new_sentence.sentiment)"
   ]
  },
  {
   "cell_type": "code",
   "execution_count": 8,
   "metadata": {},
   "outputs": [],
   "source": [
    "sentence = t('After leaving the theatre I can happily say I was very very impressed with the end result.')"
   ]
  },
  {
   "cell_type": "code",
   "execution_count": 9,
   "metadata": {},
   "outputs": [
    {
     "data": {
      "text/plain": [
       "'leaving'"
      ]
     },
     "execution_count": 9,
     "metadata": {},
     "output_type": "execute_result"
    }
   ],
   "source": [
    "sentence.words[1].singularize() "
   ]
  },
  {
   "cell_type": "code",
   "execution_count": 10,
   "metadata": {},
   "outputs": [
    {
     "data": {
      "text/plain": [
       "'theatres'"
      ]
     },
     "execution_count": 10,
     "metadata": {},
     "output_type": "execute_result"
    }
   ],
   "source": [
    "sentence.words[3].pluralize()"
   ]
  },
  {
   "cell_type": "code",
   "execution_count": 88,
   "metadata": {},
   "outputs": [],
   "source": [
    "from textblob import Word"
   ]
  },
  {
   "cell_type": "code",
   "execution_count": 89,
   "metadata": {},
   "outputs": [],
   "source": [
    "w = Word('levels')"
   ]
  },
  {
   "cell_type": "code",
   "execution_count": 90,
   "metadata": {},
   "outputs": [
    {
     "data": {
      "text/plain": [
       "'level'"
      ]
     },
     "execution_count": 90,
     "metadata": {},
     "output_type": "execute_result"
    }
   ],
   "source": [
    "w.singularize()"
   ]
  },
  {
   "cell_type": "code",
   "execution_count": 91,
   "metadata": {},
   "outputs": [],
   "source": [
    "w = Word('level')"
   ]
  },
  {
   "cell_type": "code",
   "execution_count": 92,
   "metadata": {},
   "outputs": [
    {
     "data": {
      "text/plain": [
       "'levels'"
      ]
     },
     "execution_count": 92,
     "metadata": {},
     "output_type": "execute_result"
    }
   ],
   "source": [
    "w.pluralize()"
   ]
  },
  {
   "cell_type": "code",
   "execution_count": 93,
   "metadata": {},
   "outputs": [
    {
     "data": {
      "text/plain": [
       "[WordList(['Now', 'is', 'better']),\n",
       " WordList(['is', 'better', 'than']),\n",
       " WordList(['better', 'than', 'never'])]"
      ]
     },
     "execution_count": 93,
     "metadata": {},
     "output_type": "execute_result"
    }
   ],
   "source": [
    "# n-grams \n",
    "blob = TextBlob(\"Now is better than never.\")\n",
    "blob.ngrams(n=3)"
   ]
  },
  {
   "cell_type": "code",
   "execution_count": 94,
   "metadata": {},
   "outputs": [
    {
     "data": {
      "text/plain": [
       "['a position on a scale of intensity or amount or quality',\n",
       " 'a relative position or degree of value in a graded group',\n",
       " 'a specific identifiable position in a continuum or series or especially in a process',\n",
       " 'height above ground',\n",
       " 'indicator that establishes the horizontal when a bubble is centered in a tube of liquid',\n",
       " 'a flat surface at right angles to a plumb line',\n",
       " 'an abstract place usually conceived as having depth',\n",
       " 'a structure consisting of a room or set of rooms at a single position along a vertical scale',\n",
       " 'aim at',\n",
       " 'tear down so as to make flat with the ground',\n",
       " 'make level or straight',\n",
       " 'direct into a position for use',\n",
       " 'talk frankly with; lay it on the line',\n",
       " 'become level or even']"
      ]
     },
     "execution_count": 94,
     "metadata": {},
     "output_type": "execute_result"
    }
   ],
   "source": [
    "Word(\"levels\").definitions"
   ]
  },
  {
   "cell_type": "code",
   "execution_count": 95,
   "metadata": {},
   "outputs": [],
   "source": [
    "animals = t(\"cat dog tiger\")"
   ]
  },
  {
   "cell_type": "code",
   "execution_count": 96,
   "metadata": {},
   "outputs": [
    {
     "data": {
      "text/plain": [
       "WordList(['cat', 'dog', 'tiger'])"
      ]
     },
     "execution_count": 96,
     "metadata": {},
     "output_type": "execute_result"
    }
   ],
   "source": [
    "animals.words"
   ]
  },
  {
   "cell_type": "code",
   "execution_count": 97,
   "metadata": {},
   "outputs": [
    {
     "data": {
      "text/plain": [
       "WordList(['cats', 'dogs', 'tigers'])"
      ]
     },
     "execution_count": 97,
     "metadata": {},
     "output_type": "execute_result"
    }
   ],
   "source": [
    "animals.words.pluralize()"
   ]
  },
  {
   "cell_type": "markdown",
   "metadata": {},
   "source": [
    "## Spell Correction"
   ]
  },
  {
   "cell_type": "code",
   "execution_count": 18,
   "metadata": {},
   "outputs": [],
   "source": [
    "sent = t(\"We are glad to infrm that we have launchd the seventh editon few weeks back. In the past six edition of TCS EngiNx we have been seeing phemenal innovtions that help humnity in leverageing the best in latest techologies. Many finlists of past editions, have joined us as TCSers, in the journey of enginering innoation!\")"
   ]
  },
  {
   "cell_type": "code",
   "execution_count": 19,
   "metadata": {},
   "outputs": [
    {
     "name": "stdout",
     "output_type": "stream",
     "text": [
      "He are glad to inform that we have launched the seventh edition few weeks back. In the past six edition of TCS EngiNx we have been seeing phemenal innovations that help humanity in leverageing the best in latest techologies. Any insists of past editions, have joined us as TCSers, in the journey of engineering innovation!\n"
     ]
    }
   ],
   "source": [
    "print(sent.correct())"
   ]
  },
  {
   "cell_type": "code",
   "execution_count": null,
   "metadata": {},
   "outputs": [],
   "source": []
  }
 ],
 "metadata": {
  "kernelspec": {
   "display_name": "Python 3",
   "language": "python",
   "name": "python3"
  },
  "language_info": {
   "codemirror_mode": {
    "name": "ipython",
    "version": 3
   },
   "file_extension": ".py",
   "mimetype": "text/x-python",
   "name": "python",
   "nbconvert_exporter": "python",
   "pygments_lexer": "ipython3",
   "version": "3.7.3"
  }
 },
 "nbformat": 4,
 "nbformat_minor": 2
}
