{
 "cells": [
  {
   "cell_type": "markdown",
   "metadata": {},
   "source": [
    "# Importing Tweepy "
   ]
  },
  {
   "cell_type": "code",
   "execution_count": 1,
   "metadata": {},
   "outputs": [],
   "source": [
    "import tweepy\n",
    "from textblob import TextBlob"
   ]
  },
  {
   "cell_type": "markdown",
   "metadata": {},
   "source": [
    "## The following keys can be obtained by signing up into twitter developer account"
   ]
  },
  {
   "cell_type": "code",
   "execution_count": 2,
   "metadata": {},
   "outputs": [],
   "source": [
    "consumer_key = \"#####################\"\n",
    "consumer_secret = \"####################\""
   ]
  },
  {
   "cell_type": "code",
   "execution_count": 3,
   "metadata": {},
   "outputs": [],
   "source": [
    "access_token = \"###############################\"\n",
    "access_token_secret = \"####################################\""
   ]
  },
  {
   "cell_type": "code",
   "execution_count": 4,
   "metadata": {},
   "outputs": [],
   "source": [
    "auth = tweepy.OAuthHandler(consumer_key, consumer_secret)"
   ]
  },
  {
   "cell_type": "code",
   "execution_count": 5,
   "metadata": {},
   "outputs": [],
   "source": [
    "auth.set_access_token(access_token, access_token_secret)"
   ]
  },
  {
   "cell_type": "code",
   "execution_count": 6,
   "metadata": {},
   "outputs": [],
   "source": [
    "api = tweepy.API(auth)"
   ]
  },
  {
   "cell_type": "markdown",
   "metadata": {},
   "source": [
    "## We are extracting all the tweets of a person by user defined input name"
   ]
  },
  {
   "cell_type": "code",
   "execution_count": 1,
   "metadata": {},
   "outputs": [
    {
     "name": "stdout",
     "output_type": "stream",
     "text": [
      "Enter a name: elon musk\n"
     ]
    }
   ],
   "source": [
    "name = input(\"Enter a name: \")"
   ]
  },
  {
   "cell_type": "code",
   "execution_count": 7,
   "metadata": {},
   "outputs": [],
   "source": [
    "public_tweets = api.search(name)"
   ]
  },
  {
   "cell_type": "markdown",
   "metadata": {},
   "source": [
    "## (public_tweets) contains all the tweets on \"elon musk\" and the following is used to analyze sentiment of each tweet"
   ]
  },
  {
   "cell_type": "code",
   "execution_count": 8,
   "metadata": {},
   "outputs": [
    {
     "name": "stdout",
     "output_type": "stream",
     "text": [
      "Leading-edge prodigy Elon Musk talks up details of his new idea: perpetual cyberpunks\n",
      "Sentiment(polarity=0.13636363636363635, subjectivity=0.45454545454545453)\n",
      "\n",
      "RT @SuriCrypto: Elon Musk tweets about Ethereum after praising Bitcoin and Dogecoin\n",
      "\n",
      "https://t.co/RnEdyeWH7U\n",
      "Sentiment(polarity=0.0, subjectivity=0.0)\n",
      "\n",
      "@KhaosodEnglish Casting:\n",
      "Nicholas Cave\n",
      "Dog from Scuba Doo\n",
      "The football team will be played by Cardiff City (used to… https://t.co/ZD7aKuvXME\n",
      "Sentiment(polarity=0.0, subjectivity=0.0)\n",
      "\n",
      "RT @sheslulu: Elon Musk is one of the most hated in the car industry...let that shit sink in. This man made the smartest car in the world &amp;…\n",
      "Sentiment(polarity=-0.20000000000000004, subjectivity=0.6666666666666666)\n",
      "\n",
      "Tesla Model 3 Update: When Will Elon Musk’s Gigafactory 3 Begin Production? - International Business Times https://t.co/vC3C6OZkLj\n",
      "Sentiment(polarity=0.0, subjectivity=0.0)\n",
      "\n",
      "RT @Kudsia_Kahar: Netflix has secured the rights to make a mini-series about the rescue of 12 boys and their football coach from a cave in…\n",
      "Sentiment(polarity=0.0, subjectivity=0.0)\n",
      "\n",
      "RT @InsideEVs: Chart Compares @Tesla Range &amp; kWh To Competitors -- Elon Musk said recently that other manufacturers still aren't able to be…\n",
      "Sentiment(polarity=0.125, subjectivity=0.4166666666666667)\n",
      "\n",
      "@Raff_Perf @wobi_it @ItalianPolitics @econopoly24 @smart_inst @albe_ @pasqualemerella @manageritalia @paoloigna1… https://t.co/LmkalZrTWQ\n",
      "Sentiment(polarity=0.0, subjectivity=0.0)\n",
      "\n",
      "RT @GroggyTBear: The segment CNBC apparently doesn't want you to see.\n",
      "\n",
      "Palihapitiya schooling Scott Wapner on Elon Musk, Tesla, $TSLAQ #dum…\n",
      "Sentiment(polarity=0.05, subjectivity=0.35)\n",
      "\n",
      "RT @WIRED: Elon Musk has predicted that a year from now, +1 million Tesla vehicles will be capable of driving themselves while a person sle…\n",
      "Sentiment(polarity=0.2, subjectivity=0.4)\n",
      "\n",
      "RT @sheslulu: Elon Musk is one of the most hated in the car industry...let that shit sink in. This man made the smartest car in the world &amp;…\n",
      "Sentiment(polarity=-0.20000000000000004, subjectivity=0.6666666666666666)\n",
      "\n",
      "OpenAI Wants to Make Ultra-Powerful AI. But Not in a Bad Way OpenAI, a research institute cofounded by Elon Musk, a… https://t.co/qdxQZ9uCC8\n",
      "Sentiment(polarity=-0.24999999999999992, subjectivity=0.3833333333333333)\n",
      "\n",
      "RT @JournalDuGeek: Elon Musk promet que son interface Neuralink pour connecter cerveaux et machines arrive bientôt https://t.co/T7ooFYAnou…\n",
      "Sentiment(polarity=0.0, subjectivity=0.0)\n",
      "\n"
     ]
    }
   ],
   "source": [
    "for tweet in public_tweets:\n",
    "    print(tweet.text)\n",
    "    analysis = TextBlob(tweet.text)\n",
    "    print(analysis.sentiment)\n",
    "    print()"
   ]
  },
  {
   "cell_type": "code",
   "execution_count": null,
   "metadata": {},
   "outputs": [],
   "source": []
  }
 ],
 "metadata": {
  "kernelspec": {
   "display_name": "Python 3",
   "language": "python",
   "name": "python3"
  },
  "language_info": {
   "codemirror_mode": {
    "name": "ipython",
    "version": 3
   },
   "file_extension": ".py",
   "mimetype": "text/x-python",
   "name": "python",
   "nbconvert_exporter": "python",
   "pygments_lexer": "ipython3",
   "version": "3.7.3"
  }
 },
 "nbformat": 4,
 "nbformat_minor": 2
}
